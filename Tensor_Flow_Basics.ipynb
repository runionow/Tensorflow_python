{
 "cells": [
  {
   "cell_type": "markdown",
   "metadata": {},
   "source": [
    "# Tensor Flow Syntax"
   ]
  },
  {
   "cell_type": "code",
   "execution_count": 2,
   "metadata": {},
   "outputs": [],
   "source": [
    "import tensorflow as tf"
   ]
  },
  {
   "cell_type": "code",
   "execution_count": 3,
   "metadata": {},
   "outputs": [
    {
     "name": "stdout",
     "output_type": "stream",
     "text": [
      "1.4.0\n"
     ]
    }
   ],
   "source": [
    "print(tf.__version__)"
   ]
  },
  {
   "cell_type": "code",
   "execution_count": 4,
   "metadata": {},
   "outputs": [],
   "source": [
    "hello = tf.constant(\"hello\")\n",
    "world = tf.constant(\"world\")"
   ]
  },
  {
   "cell_type": "code",
   "execution_count": 5,
   "metadata": {},
   "outputs": [
    {
     "data": {
      "text/plain": [
       "tensorflow.python.framework.ops.Tensor"
      ]
     },
     "execution_count": 5,
     "metadata": {},
     "output_type": "execute_result"
    }
   ],
   "source": [
    "type(hello)"
   ]
  },
  {
   "cell_type": "code",
   "execution_count": 6,
   "metadata": {},
   "outputs": [
    {
     "name": "stdout",
     "output_type": "stream",
     "text": [
      "Tensor(\"Const:0\", shape=(), dtype=string)\n"
     ]
    }
   ],
   "source": [
    "print(hello)"
   ]
  },
  {
   "cell_type": "code",
   "execution_count": 7,
   "metadata": {},
   "outputs": [],
   "source": [
    "with tf.Session() as sess:\n",
    "    result = sess.run(hello+world)"
   ]
  },
  {
   "cell_type": "code",
   "execution_count": 8,
   "metadata": {},
   "outputs": [
    {
     "name": "stdout",
     "output_type": "stream",
     "text": [
      "b'helloworld'\n"
     ]
    }
   ],
   "source": [
    "print(result)"
   ]
  },
  {
   "cell_type": "code",
   "execution_count": 9,
   "metadata": {},
   "outputs": [],
   "source": [
    "a = tf.constant(10)\n",
    "b = tf.constant(20)"
   ]
  },
  {
   "cell_type": "code",
   "execution_count": 10,
   "metadata": {},
   "outputs": [
    {
     "name": "stdout",
     "output_type": "stream",
     "text": [
      "30\n"
     ]
    }
   ],
   "source": [
    "with tf.Session() as sess:\n",
    "    result = sess.run(a+b)\n",
    "print(result)"
   ]
  },
  {
   "cell_type": "code",
   "execution_count": 11,
   "metadata": {},
   "outputs": [
    {
     "name": "stdout",
     "output_type": "stream",
     "text": [
      "Tensor(\"AMatrix:0\", shape=(4, 4), dtype=float32)\n"
     ]
    }
   ],
   "source": [
    "a = tf.constant(10)\n",
    "fill_mat = tf.fill((4,4),4.1,name = \"AMatrix\")\n",
    "print(fill_mat)"
   ]
  },
  {
   "cell_type": "code",
   "execution_count": 12,
   "metadata": {},
   "outputs": [
    {
     "name": "stdout",
     "output_type": "stream",
     "text": [
      "[[ 4.0999999  4.0999999  4.0999999  4.0999999]\n",
      " [ 4.0999999  4.0999999  4.0999999  4.0999999]\n",
      " [ 4.0999999  4.0999999  4.0999999  4.0999999]\n",
      " [ 4.0999999  4.0999999  4.0999999  4.0999999]]\n"
     ]
    }
   ],
   "source": [
    "with tf.Session() as sess:\n",
    "    result = sess.run(fill_mat)\n",
    "    print(result)"
   ]
  },
  {
   "cell_type": "code",
   "execution_count": 15,
   "metadata": {},
   "outputs": [
    {
     "name": "stdout",
     "output_type": "stream",
     "text": [
      "Ones\n",
      "[[ 1.  1.  1.  1.  1.  1.  1.  1.  1.  1.]\n",
      " [ 1.  1.  1.  1.  1.  1.  1.  1.  1.  1.]\n",
      " [ 1.  1.  1.  1.  1.  1.  1.  1.  1.  1.]\n",
      " [ 1.  1.  1.  1.  1.  1.  1.  1.  1.  1.]\n",
      " [ 1.  1.  1.  1.  1.  1.  1.  1.  1.  1.]\n",
      " [ 1.  1.  1.  1.  1.  1.  1.  1.  1.  1.]\n",
      " [ 1.  1.  1.  1.  1.  1.  1.  1.  1.  1.]\n",
      " [ 1.  1.  1.  1.  1.  1.  1.  1.  1.  1.]\n",
      " [ 1.  1.  1.  1.  1.  1.  1.  1.  1.  1.]\n",
      " [ 1.  1.  1.  1.  1.  1.  1.  1.  1.  1.]]\n",
      "Zeroes\n",
      "[[ 0.  0.  0.  0.  0.  0.  0.  0.  0.  0.]\n",
      " [ 0.  0.  0.  0.  0.  0.  0.  0.  0.  0.]\n",
      " [ 0.  0.  0.  0.  0.  0.  0.  0.  0.  0.]\n",
      " [ 0.  0.  0.  0.  0.  0.  0.  0.  0.  0.]\n",
      " [ 0.  0.  0.  0.  0.  0.  0.  0.  0.  0.]\n",
      " [ 0.  0.  0.  0.  0.  0.  0.  0.  0.  0.]\n",
      " [ 0.  0.  0.  0.  0.  0.  0.  0.  0.  0.]\n",
      " [ 0.  0.  0.  0.  0.  0.  0.  0.  0.  0.]\n",
      " [ 0.  0.  0.  0.  0.  0.  0.  0.  0.  0.]\n",
      " [ 0.  0.  0.  0.  0.  0.  0.  0.  0.  0.]]\n",
      "Normal Distribution\n",
      "[[ 0.89710629  1.18422103  2.26436043  1.04145753  2.69149923  1.0171932\n",
      "   2.49739051  2.57187891  1.50737596  0.54114401]\n",
      " [ 2.76070952  3.52604175  0.14349699  0.91401696  0.71153259  0.12345612\n",
      "   0.43430817  1.20240378  0.06763864  0.39276308]\n",
      " [ 0.42424756 -0.70208049  0.4913097   0.38382429  3.67576289  0.76189274\n",
      "   1.70445299  3.31591821  1.46670842  1.93392324]\n",
      " [-0.21064997  0.35785556  1.08300471 -0.61163318  0.06344146  1.64653718\n",
      "  -0.14468181  1.81556225  2.03959513  0.29767597]\n",
      " [-0.19333708 -0.28715658 -0.93787265  1.70399904 -0.10182321  0.38878304\n",
      "   1.49099004  2.11771727  3.87768793  0.42234957]\n",
      " [ 1.25965309  2.24046135  1.17703366 -0.71067536  0.37800789  0.02748668\n",
      "   1.32885396  2.25007486  1.11743772 -0.57766497]\n",
      " [ 0.22610831  0.88054645  2.09812069  0.42254984  1.37028825 -0.11376023\n",
      "   1.26447272  0.61591733  0.74132818  1.11212194]\n",
      " [ 2.67576027  1.0621593   1.32305634 -0.54959536  0.86305851  1.31158984\n",
      "  -0.07545221  0.12170827  1.17288744  1.98278713]\n",
      " [ 1.32738292  1.00036216  0.76407766 -0.24808133  0.81838608  0.04054838\n",
      "   0.76188308  0.91785514  2.65915108 -0.35530055]\n",
      " [ 0.56567156  0.70239127  1.52096939 -0.27106392  0.64100206 -0.7906127\n",
      "   2.10375595  0.79645157  1.02082658  1.46844077]]\n",
      "Uniform Distribution\n",
      "[[ 7.10871935  7.42735815  5.22835255  5.33772755  5.30543566  5.98505831\n",
      "   3.11633253  4.94779015  5.3638916   8.53726482]\n",
      " [ 7.01438904  8.31782913  2.9054637   2.31342316  5.24943447  3.33527374\n",
      "   7.90347481  1.87094331  7.7472086   2.41529131]\n",
      " [ 4.25942039  4.6142292   5.22832346  4.41432571  2.72566247  2.2011404\n",
      "   6.69915867  7.80743456  4.59673691  5.5413084 ]\n",
      " [ 1.39234066  7.46503019  9.601511    1.05737782  3.41296029  8.50755978\n",
      "   3.43678689  9.10086441  1.58635128  7.02302074]\n",
      " [ 6.46028328  6.75111008  1.81857693  8.91761017  2.0398078   7.08005714\n",
      "   5.55240488  6.17101765  3.31585884  4.70371008]\n",
      " [ 2.44973278  7.31106377  6.73381281  7.10195351  9.85395432  6.11508179\n",
      "   4.09758663  3.06739616  9.61724472  7.61584997]\n",
      " [ 7.34297276  4.96614599  2.44195652  5.01040363  5.45249796  6.77559853\n",
      "   9.11349583  2.75164652  6.6421833   7.85241413]\n",
      " [ 2.1329565   8.72201633  6.67630863  4.19564486  1.14550126  3.62384748\n",
      "   6.7324481   6.60360765  4.73266315  1.5831337 ]\n",
      " [ 2.61398816  5.65406418  7.86410236  7.94648886  5.17104721  7.04513693\n",
      "   4.19156456  1.43766999  7.83773518  4.50536394]\n",
      " [ 4.45669556  2.78638458  1.928231    5.03420115  3.50645781  8.33701706\n",
      "   2.44158649  2.47493815  3.68647146  9.31435776]]\n"
     ]
    }
   ],
   "source": [
    "ones = tf.ones((10,10))\n",
    "zeroes = tf.zeros((10,10))\n",
    "randn = tf.random_normal(mean=1,stddev=1,shape=(10,10))\n",
    "randu = tf.random_uniform((10,10),maxval=10,minval=1,seed=2)\n",
    "with tf.Session() as sess:\n",
    "    print(\"Ones\")\n",
    "    print(sess.run(ones))\n",
    "    print(\"Zeroes\")\n",
    "    print(sess.run(zeroes))\n",
    "    print(\"Normal Distribution\")\n",
    "    print(sess.run(randn))\n",
    "    print(\"Uniform Distribution\")\n",
    "    print(sess.run(randu))"
   ]
  },
  {
   "cell_type": "code",
   "execution_count": 23,
   "metadata": {},
   "outputs": [
    {
     "name": "stdout",
     "output_type": "stream",
     "text": [
      "[[ 1.  1.  1.  1.  1.  1.  1.  1.  1.  1.]\n",
      " [ 1.  1.  1.  1.  1.  1.  1.  1.  1.  1.]\n",
      " [ 1.  1.  1.  1.  1.  1.  1.  1.  1.  1.]\n",
      " [ 1.  1.  1.  1.  1.  1.  1.  1.  1.  1.]\n",
      " [ 1.  1.  1.  1.  1.  1.  1.  1.  1.  1.]\n",
      " [ 1.  1.  1.  1.  1.  1.  1.  1.  1.  1.]\n",
      " [ 1.  1.  1.  1.  1.  1.  1.  1.  1.  1.]\n",
      " [ 1.  1.  1.  1.  1.  1.  1.  1.  1.  1.]\n",
      " [ 1.  1.  1.  1.  1.  1.  1.  1.  1.  1.]\n",
      " [ 1.  1.  1.  1.  1.  1.  1.  1.  1.  1.]]\n",
      "[[ 0.  0.  0.  0.  0.  0.  0.  0.  0.  0.]\n",
      " [ 0.  0.  0.  0.  0.  0.  0.  0.  0.  0.]\n",
      " [ 0.  0.  0.  0.  0.  0.  0.  0.  0.  0.]\n",
      " [ 0.  0.  0.  0.  0.  0.  0.  0.  0.  0.]\n",
      " [ 0.  0.  0.  0.  0.  0.  0.  0.  0.  0.]\n",
      " [ 0.  0.  0.  0.  0.  0.  0.  0.  0.  0.]\n",
      " [ 0.  0.  0.  0.  0.  0.  0.  0.  0.  0.]\n",
      " [ 0.  0.  0.  0.  0.  0.  0.  0.  0.  0.]\n",
      " [ 0.  0.  0.  0.  0.  0.  0.  0.  0.  0.]\n",
      " [ 0.  0.  0.  0.  0.  0.  0.  0.  0.  0.]]\n",
      "[[ 1.93654108  1.23989522  2.10384798  0.88223708  0.04505837  0.76362157\n",
      "   0.98826104 -2.12209105  1.18866467  3.17164731]\n",
      " [-0.79812706  1.31420708  2.32878542  3.04058337  0.08572668 -1.10073853\n",
      "   2.19515729  1.8810817  -1.83230758  0.93272328]\n",
      " [ 2.81519842  1.02581251 -0.32015431  0.20815557  3.57140636  2.13891602\n",
      "   1.96451616  1.22045982 -0.24920714  0.76882505]\n",
      " [ 1.66412055  0.89248061  0.09086585  2.84480405  1.92574131  0.1084916\n",
      "   1.11268544  0.93166488 -0.28080189  0.24796361]\n",
      " [ 0.5789808  -0.38910902 -0.23243499  0.89354372  2.34582257  2.25343132\n",
      "  -0.04477537  0.83380109  1.01030338  2.74166965]\n",
      " [ 0.08481157  1.16346598  2.12199473  0.9752146   1.59391963  0.55135387\n",
      "   1.30731511  1.65335536 -0.2732358   1.34215689]\n",
      " [ 1.5932349  -0.04947746  0.48354709  1.98128688  0.8817994  -0.62823534\n",
      "   1.38121819  0.53039098  1.11004221  0.95804697]\n",
      " [ 1.02710819  2.16463566 -0.26609313  1.35638452  1.64947617  3.56306362\n",
      "   1.25276232  3.34509444  0.765683    1.40351701]\n",
      " [-0.16033161  0.7675392  -1.112082    0.91278535  0.67543513  1.35255527\n",
      "   1.11545396 -0.10046136  0.90745848  1.10283053]\n",
      " [ 1.25864577 -0.29523528  2.13028002  0.58102095  1.12341821  0.58636832\n",
      "   0.53867197  1.83194757  1.46128416  2.90902829]]\n",
      "[[ 7.10871935  7.42735815  5.22835255  5.33772755  5.30543566  5.98505831\n",
      "   3.11633253  4.94779015  5.3638916   8.53726482]\n",
      " [ 7.01438904  8.31782913  2.9054637   2.31342316  5.24943447  3.33527374\n",
      "   7.90347481  1.87094331  7.7472086   2.41529131]\n",
      " [ 4.25942039  4.6142292   5.22832346  4.41432571  2.72566247  2.2011404\n",
      "   6.69915867  7.80743456  4.59673691  5.5413084 ]\n",
      " [ 1.39234066  7.46503019  9.601511    1.05737782  3.41296029  8.50755978\n",
      "   3.43678689  9.10086441  1.58635128  7.02302074]\n",
      " [ 6.46028328  6.75111008  1.81857693  8.91761017  2.0398078   7.08005714\n",
      "   5.55240488  6.17101765  3.31585884  4.70371008]\n",
      " [ 2.44973278  7.31106377  6.73381281  7.10195351  9.85395432  6.11508179\n",
      "   4.09758663  3.06739616  9.61724472  7.61584997]\n",
      " [ 7.34297276  4.96614599  2.44195652  5.01040363  5.45249796  6.77559853\n",
      "   9.11349583  2.75164652  6.6421833   7.85241413]\n",
      " [ 2.1329565   8.72201633  6.67630863  4.19564486  1.14550126  3.62384748\n",
      "   6.7324481   6.60360765  4.73266315  1.5831337 ]\n",
      " [ 2.61398816  5.65406418  7.86410236  7.94648886  5.17104721  7.04513693\n",
      "   4.19156456  1.43766999  7.83773518  4.50536394]\n",
      " [ 4.45669556  2.78638458  1.928231    5.03420115  3.50645781  8.33701706\n",
      "   2.44158649  2.47493815  3.68647146  9.31435776]]\n"
     ]
    }
   ],
   "source": [
    "sess =tf.InteractiveSession()\n",
    "my_ops = [ones,zeroes,randn,randu]\n",
    "for op in my_ops:\n",
    "    print(sess.run(op))"
   ]
  },
  {
   "cell_type": "code",
   "execution_count": 24,
   "metadata": {},
   "outputs": [
    {
     "data": {
      "text/plain": [
       "array([[1, 2],\n",
       "       [2, 4],\n",
       "       [3, 5]])"
      ]
     },
     "execution_count": 24,
     "metadata": {},
     "output_type": "execute_result"
    }
   ],
   "source": [
    "a =tf.constant([[1,2],\n",
    "               [2,4],\n",
    "               [3,5]])\n",
    "a.get_shape()\n",
    "sess.run(a)"
   ]
  },
  {
   "cell_type": "markdown",
   "metadata": {},
   "source": [
    "# Tensorflow Graphs"
   ]
  },
  {
   "cell_type": "code",
   "execution_count": 25,
   "metadata": {},
   "outputs": [],
   "source": [
    "n1 = tf.constant(1)\n",
    "n2 = tf.constant(2)"
   ]
  },
  {
   "cell_type": "code",
   "execution_count": 26,
   "metadata": {},
   "outputs": [],
   "source": [
    "n3 = n1+n2 "
   ]
  },
  {
   "cell_type": "code",
   "execution_count": 27,
   "metadata": {},
   "outputs": [
    {
     "name": "stdout",
     "output_type": "stream",
     "text": [
      "3\n"
     ]
    }
   ],
   "source": [
    "with tf.Session() as sess:\n",
    "    result = sess.run(n3)\n",
    "    print(result)"
   ]
  },
  {
   "cell_type": "code",
   "execution_count": 36,
   "metadata": {},
   "outputs": [
    {
     "name": "stdout",
     "output_type": "stream",
     "text": [
      "<tensorflow.python.framework.ops.Graph object at 0x000002B17891DB70>\n",
      "<tensorflow.python.framework.ops.Graph object at 0x000002B2E750F860>\n",
      "<tensorflow.python.framework.ops.Graph object at 0x000002B2E750F828>\n"
     ]
    }
   ],
   "source": [
    "# Changing Graphs to a Default Graph.\n",
    "\n",
    "print(tf.get_default_graph())\n",
    "g = tf.Graph()\n",
    "g1 = tf.Graph()\n",
    "print(g)\n",
    "print(g1)"
   ]
  },
  {
   "cell_type": "code",
   "execution_count": 37,
   "metadata": {},
   "outputs": [
    {
     "name": "stdout",
     "output_type": "stream",
     "text": [
      "True\n",
      "False\n"
     ]
    }
   ],
   "source": [
    "with g1.as_default():\n",
    "    print(g1 is tf.get_default_graph())\n",
    "\n",
    "print(g1 is tf.get_default_graph())"
   ]
  },
  {
   "cell_type": "code",
   "execution_count": 38,
   "metadata": {},
   "outputs": [],
   "source": [
    "sess.close()"
   ]
  },
  {
   "cell_type": "markdown",
   "metadata": {},
   "source": [
    "# Tensorflow : Varibale and PlaceHolders"
   ]
  },
  {
   "cell_type": "code",
   "execution_count": 40,
   "metadata": {},
   "outputs": [],
   "source": [
    "sess  = tf.InteractiveSession()"
   ]
  },
  {
   "cell_type": "code",
   "execution_count": 41,
   "metadata": {},
   "outputs": [],
   "source": [
    "tensor = tf.random_uniform((4,4),0,1)"
   ]
  },
  {
   "cell_type": "code",
   "execution_count": 42,
   "metadata": {},
   "outputs": [],
   "source": [
    "my_var = tf.Variable(initial_value=tensor)"
   ]
  },
  {
   "cell_type": "markdown",
   "metadata": {},
   "source": [
    "## Initialize Varibales and PlaceHolders."
   ]
  },
  {
   "cell_type": "code",
   "execution_count": 43,
   "metadata": {},
   "outputs": [],
   "source": [
    "init = tf.global_variables_initializer()"
   ]
  },
  {
   "cell_type": "code",
   "execution_count": 44,
   "metadata": {},
   "outputs": [],
   "source": [
    "sess.run(init)"
   ]
  },
  {
   "cell_type": "code",
   "execution_count": 45,
   "metadata": {},
   "outputs": [
    {
     "data": {
      "text/plain": [
       "array([[ 0.69879997,  0.13603294,  0.22047865,  0.21360469],\n",
       "       [ 0.92270434,  0.55468488,  0.13692915,  0.75311697],\n",
       "       [ 0.28504646,  0.40987182,  0.27648664,  0.47836256],\n",
       "       [ 0.18144393,  0.16517663,  0.95676339,  0.72317457]], dtype=float32)"
      ]
     },
     "execution_count": 45,
     "metadata": {},
     "output_type": "execute_result"
    }
   ],
   "source": [
    "sess.run(my_var)"
   ]
  },
  {
   "cell_type": "code",
   "execution_count": 47,
   "metadata": {},
   "outputs": [],
   "source": [
    "ph = tf.placeholder(dtype=tf.float32,shape=(None,5))"
   ]
  },
  {
   "cell_type": "markdown",
   "metadata": {},
   "source": [
    "# First Neural Network Model"
   ]
  },
  {
   "cell_type": "markdown",
   "metadata": {},
   "source": [
    "$$ Y = wx + b $$\n",
    "Type\n",
    "$$ w = Variable $$\n",
    "$$ x = PlaceHolder $$\n",
    "$$ b = Variable $$\n",
    "Activation Function : __Sigmoid__"
   ]
  },
  {
   "cell_type": "code",
   "execution_count": 49,
   "metadata": {},
   "outputs": [],
   "source": [
    "import numpy as np \n",
    "import pandas as pd "
   ]
  },
  {
   "cell_type": "code",
   "execution_count": 53,
   "metadata": {},
   "outputs": [],
   "source": [
    "np.random.seed(101)\n",
    "tf.set_random_seed(101)"
   ]
  },
  {
   "cell_type": "code",
   "execution_count": 87,
   "metadata": {},
   "outputs": [],
   "source": [
    "# Both represents the same\n",
    "rand_a_np = np.random.uniform(0,100,(5,5))\n",
    "rand_a = tf.random_uniform(shape=(5,5),maxval=100,minval=0)\n"
   ]
  },
  {
   "cell_type": "code",
   "execution_count": 88,
   "metadata": {},
   "outputs": [],
   "source": [
    "rand_b_np = np.random.uniform(0,100,(5,1))\n",
    "rand_b = tf.random_uniform(shape=(5,1),maxval=100,minval=0)"
   ]
  },
  {
   "cell_type": "code",
   "execution_count": 89,
   "metadata": {},
   "outputs": [],
   "source": [
    "a = tf.placeholder(dtype=tf.float32)"
   ]
  },
  {
   "cell_type": "code",
   "execution_count": 91,
   "metadata": {},
   "outputs": [],
   "source": [
    "b = tf.placeholder(dtype=tf.float32)"
   ]
  },
  {
   "cell_type": "code",
   "execution_count": 92,
   "metadata": {},
   "outputs": [],
   "source": [
    "# tf.matmul(a,b)\n",
    "add_op = a+b\n",
    "mul_op = a*b"
   ]
  },
  {
   "cell_type": "code",
   "execution_count": 96,
   "metadata": {},
   "outputs": [
    {
     "name": "stdout",
     "output_type": "stream",
     "text": [
      "[[  8.01035387  60.72162718  63.08467036  37.79419319   1.32410111]\n",
      " [ 84.22194119  38.49377461  55.16658451  71.05381401  67.52788507]\n",
      " [ 69.45646648  34.24567679  41.23905637  23.97909655  96.88359762]\n",
      " [ 28.85570076  14.73116127  12.93404399  94.40560505  35.14342645]\n",
      " [ 73.35676132  91.38895268  70.09874942  38.8531272   94.22592889]]\n",
      "[[ 73.64913313]\n",
      " [ 23.8464388 ]\n",
      " [ 82.37737283]\n",
      " [ 76.06134452]\n",
      " [ 39.4709074 ]]\n",
      "[[  81.65948486  134.37075806  136.73379517  111.44332886   74.97323608]\n",
      " [ 108.06837463   62.34021378   79.01302338   94.9002533    91.37432861]\n",
      " [ 151.83383179  116.62304688  123.61642456  106.3564682   179.26097107]\n",
      " [ 104.91705322   90.79251099   88.99539185  170.46694946  111.20477295]\n",
      " [ 112.82766724  130.85986328  109.56965637   78.32403564  133.69683838]]\n",
      "[[  589.95562744  4472.09521484  4646.13134766  2783.50952148\n",
      "     97.51889801]\n",
      " [ 2008.39331055   917.93945312  1315.52661133  1694.38061523\n",
      "   1610.29968262]\n",
      " [ 5721.64111328  2821.0690918   3397.16503906  1975.33508301\n",
      "   7981.01611328]\n",
      " [ 2194.8034668   1120.47192383   983.78082275  7180.6171875   2673.05639648]\n",
      " [ 2895.45800781  3607.20507812  2766.86132812  1533.5682373   3719.18310547]]\n"
     ]
    }
   ],
   "source": [
    "# Feed Values to the place holders using feed_dict parameter.\n",
    "# This is just a warm Up.\n",
    "\n",
    "with tf.Session() as sess:\n",
    "    add_result = sess.run(add_op,feed_dict = {a:rand_a_np,b:rand_b_np})\n",
    "    mul_result = sess.run(mul_op,feed_dict = {a:rand_a_np,b:rand_b_np})\n",
    "    print(rand_a_np)\n",
    "    print(rand_b_np)\n",
    "    print(add_result)\n",
    "    print(mul_result)"
   ]
  },
  {
   "cell_type": "code",
   "execution_count": 97,
   "metadata": {},
   "outputs": [],
   "source": [
    "n_features = 10 \n",
    "n_dense_neurons = 3 "
   ]
  },
  {
   "cell_type": "code",
   "execution_count": 100,
   "metadata": {},
   "outputs": [],
   "source": [
    "x = tf.placeholder(dtype=tf.float32,shape=(None,n_features))"
   ]
  },
  {
   "cell_type": "code",
   "execution_count": 104,
   "metadata": {},
   "outputs": [],
   "source": [
    "W = tf.Variable(tf.random_normal(shape = (n_features,n_dense_neurons),mean=1,stddev = 2))\n",
    "\n",
    "b = tf.Variable(tf.ones([n_dense_neurons]))\n",
    "\n",
    "xW = tf.matmul(x,W)"
   ]
  },
  {
   "cell_type": "code",
   "execution_count": 105,
   "metadata": {},
   "outputs": [],
   "source": [
    "z = tf.add(xW,b)"
   ]
  },
  {
   "cell_type": "code",
   "execution_count": 106,
   "metadata": {},
   "outputs": [],
   "source": [
    "activationFun = tf.nn.sigmoid(z)"
   ]
  },
  {
   "cell_type": "code",
   "execution_count": 112,
   "metadata": {},
   "outputs": [],
   "source": [
    "init = tf.global_variables_initializer()"
   ]
  },
  {
   "cell_type": "code",
   "execution_count": 115,
   "metadata": {},
   "outputs": [
    {
     "name": "stdout",
     "output_type": "stream",
     "text": [
      "[[ 0.99997926  0.97765428  0.99999368]]\n"
     ]
    }
   ],
   "source": [
    "with tf.Session() as sess:\n",
    "    sess.run(init)\n",
    "    layer_out = sess.run(activationFun,feed_dict={x:np.random.random(size=[1,n_features])})\n",
    "    print(layer_out)"
   ]
  }
 ],
 "metadata": {
  "kernelspec": {
   "display_name": "Python 3",
   "language": "python",
   "name": "python3"
  },
  "language_info": {
   "codemirror_mode": {
    "name": "ipython",
    "version": 3
   },
   "file_extension": ".py",
   "mimetype": "text/x-python",
   "name": "python",
   "nbconvert_exporter": "python",
   "pygments_lexer": "ipython3",
   "version": "3.6.4"
  }
 },
 "nbformat": 4,
 "nbformat_minor": 2
}
